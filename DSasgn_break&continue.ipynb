{
 "cells": [
  {
   "cell_type": "code",
   "execution_count": 2,
   "id": "855ec3b9-3faf-4bd2-85ff-6986f40ef1b2",
   "metadata": {},
   "outputs": [
    {
     "name": "stdout",
     "output_type": "stream",
     "text": [
      "1\n",
      "2\n",
      "3\n",
      "4\n",
      "6\n",
      "7\n",
      "8\n",
      "9\n",
      "10\n"
     ]
    }
   ],
   "source": [
    "# 1. Write a program to print numbers from 1 to 10, but stop if the number is 5.\n",
    "\n",
    "i=1\n",
    "while i<=10 :\n",
    "    if i==5 :\n",
    "        i += 1\n",
    "        continue\n",
    "    print(i)\n",
    "    i+=1\n"
   ]
  },
  {
   "cell_type": "code",
   "execution_count": 3,
   "id": "cd435e63-4456-4786-8071-0c16f15c6422",
   "metadata": {},
   "outputs": [
    {
     "name": "stdout",
     "output_type": "stream",
     "text": [
      "apple\n",
      "banana\n",
      "cherry\n",
      "Iteration stopped at: orange\n"
     ]
    }
   ],
   "source": [
    "# 2. Write a program to iterate through a list and stop when encountering a specific element.\n",
    "\n",
    "my_list = [\"apple\", \"banana\", \"cherry\", \"orange\", \"grape\", \"mango\"]\n",
    "stop_element = \"orange\"\n",
    "\n",
    "for element in my_list:\n",
    "  if element == stop_element:\n",
    "    print(\"Iteration stopped at:\", element)\n",
    "    break\n",
    "  else:\n",
    "    print(element)\n"
   ]
  },
  {
   "cell_type": "code",
   "execution_count": 4,
   "id": "f5016fed-3f4d-485e-896e-6879e3a776ae",
   "metadata": {},
   "outputs": [
    {
     "name": "stdout",
     "output_type": "stream",
     "text": [
      "1\n",
      "3\n",
      "5\n",
      "7\n",
      "9\n"
     ]
    }
   ],
   "source": [
    "# 3. Write a program to skip printing even numbers from 1 to 10.\n",
    "\n",
    "i=1\n",
    "while i<=10 :\n",
    "    if i%2==0 :\n",
    "        i += 1\n",
    "        continue\n",
    "    print(i)\n",
    "    i+=1"
   ]
  },
  {
   "cell_type": "code",
   "execution_count": 5,
   "id": "73fcc62c-95f9-49ad-83da-e23da349b5b0",
   "metadata": {},
   "outputs": [
    {
     "name": "stdout",
     "output_type": "stream",
     "text": [
      "Number: 0\n",
      "Number: 1\n",
      "Number: 2\n",
      "Number: 3\n",
      "Number: 4\n",
      "Number: 5\n",
      "Number: 6\n",
      "Number: 7\n",
      "Number: 8\n",
      "Number: 9\n"
     ]
    }
   ],
   "source": [
    "# 4. Write a program to print numbers from 0 to 9 using range.\n",
    "\n",
    "for i in range(0,10):\n",
    "    print(\"Number:\",i)"
   ]
  },
  {
   "cell_type": "code",
   "execution_count": 6,
   "id": "fe986e8d-84c1-4528-a194-1efe74c3b07c",
   "metadata": {},
   "outputs": [
    {
     "name": "stdin",
     "output_type": "stream",
     "text": [
      "Enter the first value to multiply: 5\n",
      "Enter the second value to multiply: 11\n"
     ]
    },
    {
     "name": "stdout",
     "output_type": "stream",
     "text": [
      "1*1=1\n",
      "2*1=2\n",
      "3*1=3\n",
      "4*1=4\n"
     ]
    }
   ],
   "source": [
    "# 5. Write a program to print multiplication tables from 1 to 5, but stop after the first table is printed for each number.\n",
    "\n",
    "m = int(input(\"Enter the first value to multiply:\"))\n",
    "n = int(input(\"Enter the second value to multiply:\"))\n",
    "\n",
    "for i in range (1,m):\n",
    "    for j in range(1,n):\n",
    "        product = i*j\n",
    "        print(f\"{i}*{j}={product}\")\n",
    "        break"
   ]
  },
  {
   "cell_type": "code",
   "execution_count": 8,
   "id": "e4a80946-4516-4f38-826d-23780fd36ce9",
   "metadata": {},
   "outputs": [
    {
     "name": "stdin",
     "output_type": "stream",
     "text": [
      "Enter the number: 21\n"
     ]
    },
    {
     "name": "stdout",
     "output_type": "stream",
     "text": [
      "1\n",
      "3\n",
      "5\n",
      "7\n",
      "9\n",
      "11\n",
      "13\n",
      "15\n",
      "17\n",
      "19\n",
      "21\n"
     ]
    }
   ],
   "source": [
    "# 6. Write a program to skip printing even numbers using a while loop\n",
    "\n",
    "n=int(input(\"Enter the number:\"))\n",
    "i=1\n",
    "while i<=n :\n",
    "    if i%2==0 :\n",
    "        i += 1\n",
    "        continue\n",
    "    print(i)\n",
    "    i+=1\n"
   ]
  },
  {
   "cell_type": "code",
   "execution_count": null,
   "id": "a4b905e3-d654-4ffa-a932-92fe4ac1778b",
   "metadata": {},
   "outputs": [],
   "source": []
  }
 ],
 "metadata": {
  "kernelspec": {
   "display_name": "Python 3 (ipykernel)",
   "language": "python",
   "name": "python3"
  },
  "language_info": {
   "codemirror_mode": {
    "name": "ipython",
    "version": 3
   },
   "file_extension": ".py",
   "mimetype": "text/x-python",
   "name": "python",
   "nbconvert_exporter": "python",
   "pygments_lexer": "ipython3",
   "version": "3.10.8"
  }
 },
 "nbformat": 4,
 "nbformat_minor": 5
}
