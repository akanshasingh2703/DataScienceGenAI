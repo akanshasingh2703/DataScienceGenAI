{
 "cells": [
  {
   "cell_type": "code",
   "execution_count": 8,
   "id": "7ac79ec7-efaa-4955-ae21-b56d61b1b7da",
   "metadata": {},
   "outputs": [
    {
     "name": "stdin",
     "output_type": "stream",
     "text": [
      "Enter the first number: 6\n",
      "Enter the second number: 4\n"
     ]
    },
    {
     "name": "stdout",
     "output_type": "stream",
     "text": [
      "The sum is: 10\n",
      "The difference is: 2\n",
      "The product is: 24\n",
      "The quotient is: 1.5\n"
     ]
    }
   ],
   "source": [
    "# 1.Calculate the sum, difference, product, and quotient of two numbers.\n",
    "\n",
    "a = int(input(\"Enter the first number:\"))\n",
    "b = int (input(\"Enter the second number:\"))\n",
    "\n",
    "print(\"The sum is:\", a+b)\n",
    "\n",
    "print(\"The difference is:\", a-b)\n",
    "\n",
    "print(\"The product is:\", a*b)\n",
    "\n",
    "print(\"The quotient is:\", a/b)"
   ]
  },
  {
   "cell_type": "code",
   "execution_count": 7,
   "id": "ecb61398-1919-4f04-bd00-71da88464521",
   "metadata": {},
   "outputs": [
    {
     "name": "stdin",
     "output_type": "stream",
     "text": [
      "Enter the number: 40\n",
      "Enter the number to be added: 5\n"
     ]
    },
    {
     "name": "stdout",
     "output_type": "stream",
     "text": [
      "Sum is : 45\n"
     ]
    },
    {
     "name": "stdin",
     "output_type": "stream",
     "text": [
      "Enter the number to be substracted : 3\n"
     ]
    },
    {
     "name": "stdout",
     "output_type": "stream",
     "text": [
      "Difference is: 42\n"
     ]
    },
    {
     "name": "stdin",
     "output_type": "stream",
     "text": [
      "Enter the number to be multiplied: 4\n"
     ]
    },
    {
     "name": "stdout",
     "output_type": "stream",
     "text": [
      "Product is: 168\n"
     ]
    },
    {
     "name": "stdin",
     "output_type": "stream",
     "text": [
      "Enter the number to be divided: 3\n"
     ]
    },
    {
     "name": "stdout",
     "output_type": "stream",
     "text": [
      "Quotient is: 56.0\n"
     ]
    }
   ],
   "source": [
    "# 2.Perform various assignment operations on a variable.\n",
    "\n",
    "a = int(input(\"Enter the number:\"))   #assignment\n",
    "\n",
    "a += int(input(\"Enter the number to be added:\"))  #addition assignment\n",
    "print(\"Sum is :\",a)\n",
    "\n",
    "a -= int(input(\"Enter the number to be substracted :\")) #subtraction assignment\n",
    "print(\"Difference is:\",a)\n",
    "\n",
    "a *= int(input(\"Enter the number to be multiplied:\"))   #multiplication assignment\n",
    "print(\"Product is:\",a)\n",
    "\n",
    "a /= int(input(\"Enter the number to be divided:\"))   #division assignment\n",
    "print(\"Quotient is:\",a)"
   ]
  },
  {
   "cell_type": "code",
   "execution_count": 17,
   "id": "7df1ddb2-b801-41e3-9b50-d60cbb5bf86f",
   "metadata": {},
   "outputs": [
    {
     "name": "stdin",
     "output_type": "stream",
     "text": [
      "Enter the number to compare 4\n",
      "Enter the number to check if two numbers are equal  4\n"
     ]
    },
    {
     "name": "stdout",
     "output_type": "stream",
     "text": [
      "True\n"
     ]
    },
    {
     "name": "stdin",
     "output_type": "stream",
     "text": [
      "Enter the number to check if two numbers are not equal  5\n"
     ]
    },
    {
     "name": "stdout",
     "output_type": "stream",
     "text": [
      "True\n"
     ]
    },
    {
     "name": "stdin",
     "output_type": "stream",
     "text": [
      "Enter the number to check if previous  number is greater 3\n"
     ]
    },
    {
     "name": "stdout",
     "output_type": "stream",
     "text": [
      "True\n"
     ]
    },
    {
     "name": "stdin",
     "output_type": "stream",
     "text": [
      "Enter the number to check if previous  number is lesser  6\n"
     ]
    },
    {
     "name": "stdout",
     "output_type": "stream",
     "text": [
      "True\n"
     ]
    },
    {
     "name": "stdin",
     "output_type": "stream",
     "text": [
      "Enter the number to check if previous  number is greater than or equal  4\n"
     ]
    },
    {
     "name": "stdout",
     "output_type": "stream",
     "text": [
      "True\n"
     ]
    },
    {
     "name": "stdin",
     "output_type": "stream",
     "text": [
      "Enter the number to check if previous  number is lesser than or equal  7\n"
     ]
    },
    {
     "name": "stdout",
     "output_type": "stream",
     "text": [
      "False\n"
     ]
    }
   ],
   "source": [
    "# 3. Compare two numbers and print the results.\n",
    "\n",
    "a = int(input(\"Enter the number to compare\"))\n",
    "\n",
    "num1 = int(input(\"Enter the number to check if two numbers are equal \"))\n",
    "result = a == num1\n",
    "print(result)\n",
    "\n",
    "num2 = int(input(\"Enter the number to check if two numbers are not equal \"))\n",
    "result = a != num2\n",
    "print(result)\n",
    "\n",
    "num3 = int(input(\"Enter the number to check if previous  number is greater\"))\n",
    "result = a > num3\n",
    "print(result)\n",
    "\n",
    "num4 = int(input(\"Enter the number to check if previous  number is lesser \"))\n",
    "result = a < num4\n",
    "print(result)\n",
    "\n",
    "num5 = int(input(\"Enter the number to check if previous  number is greater than or equal \"))\n",
    "result = a >= num5\n",
    "print(result)\n",
    "\n",
    "num6 = int(input(\"Enter the number to check if previous  number is lesser than or equal \"))\n",
    "result = a == num6\n",
    "print(result)"
   ]
  },
  {
   "cell_type": "code",
   "execution_count": 8,
   "id": "e9c2812e-9b90-40a2-a232-77f8c22c70df",
   "metadata": {},
   "outputs": [
    {
     "name": "stdin",
     "output_type": "stream",
     "text": [
      "Enter the first value: 7\n",
      "Enter the second value: 5\n",
      "Enter the third value: 8\n",
      "Enter the fourth value: 15\n"
     ]
    },
    {
     "name": "stdout",
     "output_type": "stream",
     "text": [
      "True\n"
     ]
    },
    {
     "name": "stdin",
     "output_type": "stream",
     "text": [
      "Enter the first value: 7\n",
      "Enter the second value: 9\n",
      "Enter the third value: 8\n",
      "Enter the fourth value: 15\n"
     ]
    },
    {
     "name": "stdout",
     "output_type": "stream",
     "text": [
      "True\n"
     ]
    },
    {
     "name": "stdin",
     "output_type": "stream",
     "text": [
      "Enter the first value: pwskills\n",
      "Enter the second value: PHYsicswallah\n"
     ]
    },
    {
     "name": "stdout",
     "output_type": "stream",
     "text": [
      "True\n"
     ]
    }
   ],
   "source": [
    "# 4. Check conditions using logical operators.\n",
    "\n",
    "\n",
    "#And Operators\n",
    "a = int(input(\"Enter the first value:\"))\n",
    "b = int(input(\"Enter the second value:\"))\n",
    "c = int(input(\"Enter the third value:\"))\n",
    "d = int(input (\"Enter the fourth value:\"))\n",
    "result = (a > b) and (c < d)\n",
    "print (result)\n",
    "\n",
    "#Or Operators\n",
    "a = int(input(\"Enter the first value:\"))\n",
    "b = int(input(\"Enter the second value:\"))\n",
    "c = int(input(\"Enter the third value:\"))\n",
    "d = int(input (\"Enter the fourth value:\"))\n",
    "result = (a > b) or (c < d)\n",
    "print (result)\n",
    "\n",
    "#Logical Not\n",
    "\n",
    "a = input(\"Enter the first value:\")\n",
    "b = input(\"Enter the second value:\")\n",
    "result = not  (a==b)\n",
    "print (result)"
   ]
  },
  {
   "cell_type": "code",
   "execution_count": 10,
   "id": "e3e547ad-5ac0-4f54-850a-1a46e327500b",
   "metadata": {},
   "outputs": [
    {
     "name": "stdin",
     "output_type": "stream",
     "text": [
      "Enter the value: 9\n",
      "Enter the value 4\n"
     ]
    },
    {
     "name": "stdout",
     "output_type": "stream",
     "text": [
      "False\n"
     ]
    },
    {
     "name": "stdin",
     "output_type": "stream",
     "text": [
      "Enter the value: pwskills\n",
      "Enter the value: datascience\n"
     ]
    },
    {
     "name": "stdout",
     "output_type": "stream",
     "text": [
      "True\n"
     ]
    }
   ],
   "source": [
    "# 5.Check the identity of variables.\n",
    "\n",
    "# is\n",
    "a = input(\"Enter the value:\")\n",
    "b = input(\"Enter the value\")\n",
    "result = a is b\n",
    "print (result)\n",
    "\n",
    "# is not\n",
    "a = input(\"Enter the value:\")\n",
    "b = input (\"Enter the value:\")\n",
    "result = a is not b\n",
    "print (result)"
   ]
  },
  {
   "cell_type": "code",
   "execution_count": 11,
   "id": "bbea8c4c-3ad6-451f-b21e-52d334e50cc3",
   "metadata": {},
   "outputs": [
    {
     "name": "stdin",
     "output_type": "stream",
     "text": [
      "Enter the first value: 5\n",
      "Enter the second value: 3\n"
     ]
    },
    {
     "name": "stdout",
     "output_type": "stream",
     "text": [
      "a & b is: 1\n"
     ]
    },
    {
     "name": "stdin",
     "output_type": "stream",
     "text": [
      "Enter the first value: 5\n",
      "Enter the second value: 3\n"
     ]
    },
    {
     "name": "stdout",
     "output_type": "stream",
     "text": [
      "a | b is: 7\n"
     ]
    },
    {
     "name": "stdin",
     "output_type": "stream",
     "text": [
      "Enter the first value: 5\n"
     ]
    },
    {
     "name": "stdout",
     "output_type": "stream",
     "text": [
      "~ a is: -6\n"
     ]
    },
    {
     "name": "stdin",
     "output_type": "stream",
     "text": [
      "Enter the first value: 5\n",
      "Enter the second value: 3\n"
     ]
    },
    {
     "name": "stdout",
     "output_type": "stream",
     "text": [
      "a ^ b is: 6\n"
     ]
    }
   ],
   "source": [
    "# 6. Perform bitwise operations on any two integers.\n",
    "\n",
    "#Bitwise and\n",
    "a = int(input(\"Enter the first value:\"))\n",
    "b = int(input(\"Enter the second value:\"))\n",
    "result = a & b\n",
    "print(\"a & b is:\",result)\n",
    "\n",
    "#Bitwise Or\n",
    "a = int(input(\"Enter the first value:\"))\n",
    "b = int(input(\"Enter the second value:\"))\n",
    "result = a | b\n",
    "print(\"a | b is:\",result)\n",
    "\n",
    "#Bitwise Not\n",
    "a = int(input(\"Enter the first value:\"))\n",
    "result = ~ a \n",
    "print(\"~ a is:\",result)\n",
    "\n",
    "#Bitwise Xor\n",
    "a = int(input(\"Enter the first value:\"))\n",
    "b = int(input(\"Enter the second value:\"))\n",
    "result = a ^ b\n",
    "print(\"a ^ b is:\",result)"
   ]
  },
  {
   "cell_type": "code",
   "execution_count": 14,
   "id": "5c3a1564-76fa-4e9b-bce6-018a209f1485",
   "metadata": {},
   "outputs": [
    {
     "name": "stdin",
     "output_type": "stream",
     "text": [
      "Enter a number:  6\n"
     ]
    },
    {
     "name": "stdout",
     "output_type": "stream",
     "text": [
      "The number with changed sign: -6.0\n"
     ]
    },
    {
     "name": "stdin",
     "output_type": "stream",
     "text": [
      "Enter a number:  9\n"
     ]
    },
    {
     "name": "stdout",
     "output_type": "stream",
     "text": [
      "The number with changed sign: 9.0\n"
     ]
    },
    {
     "name": "stdin",
     "output_type": "stream",
     "text": [
      "Enter a number:  10\n"
     ]
    },
    {
     "name": "stdout",
     "output_type": "stream",
     "text": [
      "The number with changed sign: -11\n"
     ]
    }
   ],
   "source": [
    "# Use unary operators to change the sign of a number.\n",
    "\n",
    "#unary minus\n",
    "number = float(input(\"Enter a number: \"))\n",
    "changed_sign = -number\n",
    "print(\"The number with changed sign:\",changed_sign)\n",
    "\n",
    "#unary plus\n",
    "number = float(input(\"Enter a number: \"))\n",
    "changed_sign = +number\n",
    "print(\"The number with changed sign:\",changed_sign)\n",
    "\n",
    "#bitwise not\n",
    "number = float(input(\"Enter a number: \"))\n",
    "changed_sign = ~int(number)\n",
    "print(\"The number with changed sign:\",changed_sign)\n"
   ]
  },
  {
   "cell_type": "code",
   "execution_count": null,
   "id": "7c699ae7-88a6-4b6b-a396-90c473935b17",
   "metadata": {},
   "outputs": [],
   "source": [
    "#8. Use the ternary operator to assign values based on conditions.\n",
    "\n",
    "a = float(input(\"Enter the first value:\"))\n",
    "b = float (input(\"Enter the second value:\"))\n",
    "\n",
    "min = a if a < b else b\n",
    "\n",
    "print(\"The minimum value is:\"min)\n",
    "\n",
    "\n",
    "\n"
   ]
  }
 ],
 "metadata": {
  "kernelspec": {
   "display_name": "Python 3 (ipykernel)",
   "language": "python",
   "name": "python3"
  },
  "language_info": {
   "codemirror_mode": {
    "name": "ipython",
    "version": 3
   },
   "file_extension": ".py",
   "mimetype": "text/x-python",
   "name": "python",
   "nbconvert_exporter": "python",
   "pygments_lexer": "ipython3",
   "version": "3.10.8"
  }
 },
 "nbformat": 4,
 "nbformat_minor": 5
}
