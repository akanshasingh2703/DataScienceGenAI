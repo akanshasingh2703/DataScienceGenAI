{
 "cells": [
  {
   "cell_type": "code",
   "execution_count": 2,
   "id": "cdca3911-0b0e-4673-9f28-1c5f752795ee",
   "metadata": {},
   "outputs": [
    {
     "name": "stdout",
     "output_type": "stream",
     "text": [
      "1\n",
      "2\n",
      "3\n",
      "4\n",
      "5\n"
     ]
    }
   ],
   "source": [
    "#1.Print number from 1 to 5 using a while loop.\n",
    "\n",
    "count = 1\n",
    "\n",
    "while count<6:\n",
    "    print(count)\n",
    "    count += 1"
   ]
  },
  {
   "cell_type": "code",
   "execution_count": 3,
   "id": "03c7293c-02e7-4c3e-ac63-88208271f523",
   "metadata": {},
   "outputs": [
    {
     "name": "stdout",
     "output_type": "stream",
     "text": [
      "Sum of numbers 1 to 10 is: 55\n"
     ]
    }
   ],
   "source": [
    "# 2.Calclate the sum of numbers from 1 to 10 using a while loop.\n",
    "\n",
    "sum = 0\n",
    "i=1\n",
    "\n",
    "while (i<=10):\n",
    "    sum = sum + i\n",
    "    i = i+1\n",
    "    \n",
    "print(\"Sum of numbers 1 to 10 is:\",sum)\n"
   ]
  },
  {
   "cell_type": "code",
   "execution_count": 4,
   "id": "8645949e-0944-4c73-9358-879a6d1e4b85",
   "metadata": {},
   "outputs": [
    {
     "name": "stdin",
     "output_type": "stream",
     "text": [
      "Enter a number:  5\n"
     ]
    },
    {
     "name": "stdout",
     "output_type": "stream",
     "text": [
      "Factorial of the given number is:  120\n"
     ]
    }
   ],
   "source": [
    "# 3. Calclate the factorial of a number using a for loop.\n",
    "\n",
    "n = int (input (\"Enter a number: \"))\n",
    "factorial = 1\n",
    "if n >= 1:\n",
    "    for i in range (1, n+1):\n",
    "        factorial=factorial *i\n",
    "print(\"Factorial of the given number is: \", factorial)"
   ]
  },
  {
   "cell_type": "code",
   "execution_count": 7,
   "id": "e4e10da8-e7c1-4f61-b3ce-fede05bf64a2",
   "metadata": {},
   "outputs": [
    {
     "name": "stdin",
     "output_type": "stream",
     "text": [
      "Enter the string: python\n"
     ]
    },
    {
     "name": "stdout",
     "output_type": "stream",
     "text": [
      "The number of vowels are:\n",
      "1\n"
     ]
    }
   ],
   "source": [
    "# 4. Count the number of vowels in a string using a for loop.\n",
    "\n",
    "string=input(\"Enter the string:\")\n",
    "vowels=0\n",
    "for i in string:\n",
    "      if(i=='a' or i=='e' or i=='i' or i=='o' or i=='u' or i=='A' or i=='E' or i=='I' or i=='O' or i=='U'):\n",
    "            vowels=vowels+1\n",
    "print(\"The number of vowels are:\")\n",
    "print(vowels)"
   ]
  },
  {
   "cell_type": "code",
   "execution_count": 9,
   "id": "dbf2bb14-5e1e-4a2e-970a-1c05922585b8",
   "metadata": {},
   "outputs": [
    {
     "name": "stdout",
     "output_type": "stream",
     "text": [
      "* \n",
      "* * \n",
      "* * * \n",
      "* * * * \n"
     ]
    }
   ],
   "source": [
    "# 5. Print a pattern using a nested loop.\n",
    "\n",
    "row = 1\n",
    "while row <= 4 :\n",
    "    col = 1\n",
    "    while col <= row:\n",
    "        print(\"*\",end=\" \")\n",
    "        col += 1\n",
    "    print()\n",
    "    row += 1"
   ]
  },
  {
   "cell_type": "code",
   "execution_count": 10,
   "id": "07c4f302-d890-4673-86f3-d0dc0f792e86",
   "metadata": {},
   "outputs": [
    {
     "name": "stdin",
     "output_type": "stream",
     "text": [
      "Enter the first value to multiply: 5\n",
      "Enter the second value to multiply: 11\n"
     ]
    },
    {
     "name": "stdout",
     "output_type": "stream",
     "text": [
      "1*1=1\n",
      "1*2=2\n",
      "1*3=3\n",
      "1*4=4\n",
      "1*5=5\n",
      "1*6=6\n",
      "1*7=7\n",
      "1*8=8\n",
      "1*9=9\n",
      "1*10=10\n",
      "\n",
      "2*1=2\n",
      "2*2=4\n",
      "2*3=6\n",
      "2*4=8\n",
      "2*5=10\n",
      "2*6=12\n",
      "2*7=14\n",
      "2*8=16\n",
      "2*9=18\n",
      "2*10=20\n",
      "\n",
      "3*1=3\n",
      "3*2=6\n",
      "3*3=9\n",
      "3*4=12\n",
      "3*5=15\n",
      "3*6=18\n",
      "3*7=21\n",
      "3*8=24\n",
      "3*9=27\n",
      "3*10=30\n",
      "\n",
      "4*1=4\n",
      "4*2=8\n",
      "4*3=12\n",
      "4*4=16\n",
      "4*5=20\n",
      "4*6=24\n",
      "4*7=28\n",
      "4*8=32\n",
      "4*9=36\n",
      "4*10=40\n",
      "\n"
     ]
    }
   ],
   "source": [
    "# 6. Generate a multiplication table using nested loop.\n",
    "\n",
    "m = int(input(\"Enter the first value to multiply:\"))\n",
    "n = int(input(\"Enter the second value to multiply:\"))\n",
    "\n",
    "for i in range (1,m):\n",
    "    for j in range(1,n):\n",
    "        product = i*j\n",
    "        print(f\"{i}*{j}={product}\")\n",
    "    print()"
   ]
  },
  {
   "cell_type": "code",
   "execution_count": null,
   "id": "f09dd4e0-bd60-4b99-90e7-1292c390c3e5",
   "metadata": {},
   "outputs": [],
   "source": []
  }
 ],
 "metadata": {
  "kernelspec": {
   "display_name": "Python 3 (ipykernel)",
   "language": "python",
   "name": "python3"
  },
  "language_info": {
   "codemirror_mode": {
    "name": "ipython",
    "version": 3
   },
   "file_extension": ".py",
   "mimetype": "text/x-python",
   "name": "python",
   "nbconvert_exporter": "python",
   "pygments_lexer": "ipython3",
   "version": "3.10.8"
  }
 },
 "nbformat": 4,
 "nbformat_minor": 5
}
