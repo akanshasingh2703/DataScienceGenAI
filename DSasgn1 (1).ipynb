{
 "cells": [
  {
   "cell_type": "code",
   "execution_count": 1,
   "id": "f8145bc3-9df3-4d4d-bf17-46ed63895447",
   "metadata": {},
   "outputs": [
    {
     "name": "stdout",
     "output_type": "stream",
     "text": [
      "4.0\n"
     ]
    }
   ],
   "source": [
    "# Convert an integer to a floating-point number.\n",
    "\n",
    "integer = 4\n",
    "floating = float(integer)\n",
    "print(floating)"
   ]
  },
  {
   "cell_type": "code",
   "execution_count": 11,
   "id": "b135f0c5-4413-42fd-bc2f-601928238f69",
   "metadata": {},
   "outputs": [
    {
     "data": {
      "text/plain": [
       "float"
      ]
     },
     "execution_count": 11,
     "metadata": {},
     "output_type": "execute_result"
    }
   ],
   "source": [
    "type(floating)"
   ]
  },
  {
   "cell_type": "code",
   "execution_count": 2,
   "id": "541f7234-1ee2-4019-8e5b-677a7484b5e1",
   "metadata": {},
   "outputs": [
    {
     "name": "stdout",
     "output_type": "stream",
     "text": [
      "3\n"
     ]
    }
   ],
   "source": [
    "# Convert a float to an integer.\n",
    "\n",
    "floating = 3.4\n",
    "integer = int(floating)\n",
    "print(integer)"
   ]
  },
  {
   "cell_type": "code",
   "execution_count": 12,
   "id": "8ae488b7-53b7-4c33-a280-edea43b95270",
   "metadata": {},
   "outputs": [
    {
     "data": {
      "text/plain": [
       "int"
      ]
     },
     "execution_count": 12,
     "metadata": {},
     "output_type": "execute_result"
    }
   ],
   "source": [
    "type(integer)"
   ]
  },
  {
   "cell_type": "code",
   "execution_count": 3,
   "id": "844b5eac-5218-41f3-bf6b-4c1dec32a324",
   "metadata": {},
   "outputs": [
    {
     "name": "stdout",
     "output_type": "stream",
     "text": [
      "5\n"
     ]
    }
   ],
   "source": [
    "# Convert an integer to a string.\n",
    "\n",
    "integer = 5\n",
    "string = str(integer)\n",
    "print(string)"
   ]
  },
  {
   "cell_type": "code",
   "execution_count": 4,
   "id": "ea6decd7-9d48-4a60-99f4-e746292a191e",
   "metadata": {},
   "outputs": [
    {
     "data": {
      "text/plain": [
       "str"
      ]
     },
     "execution_count": 4,
     "metadata": {},
     "output_type": "execute_result"
    }
   ],
   "source": [
    "type(string)"
   ]
  },
  {
   "cell_type": "code",
   "execution_count": 7,
   "id": "33e8c326-5822-460b-91fc-975bb5545ffc",
   "metadata": {},
   "outputs": [
    {
     "name": "stdout",
     "output_type": "stream",
     "text": [
      "(1, 'PWskills', True, 4.5, 'Akansha')\n"
     ]
    }
   ],
   "source": [
    "# Convert a list to a tuple.\n",
    "\n",
    "list_items=[1,\"PWskills\", True , 4.5 ,\"Akansha\"]\n",
    "tuple_items= tuple(list_items)\n",
    "print(tuple_items)"
   ]
  },
  {
   "cell_type": "code",
   "execution_count": 8,
   "id": "e1340658-1e5e-412e-85e2-da84b20df2da",
   "metadata": {},
   "outputs": [
    {
     "data": {
      "text/plain": [
       "tuple"
      ]
     },
     "execution_count": 8,
     "metadata": {},
     "output_type": "execute_result"
    }
   ],
   "source": [
    "type(tuple_items)"
   ]
  },
  {
   "cell_type": "code",
   "execution_count": 9,
   "id": "7c9e1c63-a646-4a65-ab54-9d40be824a7e",
   "metadata": {},
   "outputs": [
    {
     "name": "stdout",
     "output_type": "stream",
     "text": [
      "[1, 'PWskills', True, 4.5, 'Akansha']\n"
     ]
    }
   ],
   "source": [
    "# Convert a tuple to a list.\n",
    "\n",
    "tuple_items = (1,\"PWskills\", True , 4.5 ,\"Akansha\")\n",
    "list_items = list(tuple_items)\n",
    "print(list_items)"
   ]
  },
  {
   "cell_type": "code",
   "execution_count": 10,
   "id": "c0ad328c-9b75-41a6-82fb-6b6ab11965bb",
   "metadata": {},
   "outputs": [
    {
     "data": {
      "text/plain": [
       "list"
      ]
     },
     "execution_count": 10,
     "metadata": {},
     "output_type": "execute_result"
    }
   ],
   "source": [
    "type(list_items)"
   ]
  },
  {
   "cell_type": "code",
   "execution_count": 13,
   "id": "3f6fa914-b335-48d6-beb5-c777f5c60662",
   "metadata": {},
   "outputs": [
    {
     "name": "stdout",
     "output_type": "stream",
     "text": [
      "0b101\n"
     ]
    }
   ],
   "source": [
    "# Convert a decimal number to binary.\n",
    "\n",
    "dec = 5\n",
    "binary = bin(dec)\n",
    "print(binary)"
   ]
  },
  {
   "cell_type": "code",
   "execution_count": 15,
   "id": "15524077-be94-42e8-8c56-2f1246051ca4",
   "metadata": {},
   "outputs": [
    {
     "name": "stdout",
     "output_type": "stream",
     "text": [
      "True\n"
     ]
    }
   ],
   "source": [
    "#Convert a non-zero number to boolean.\n",
    "\n",
    "num = 56\n",
    "boolean = bool(num)\n",
    "print(boolean)"
   ]
  },
  {
   "cell_type": "code",
   "execution_count": 16,
   "id": "850f1723-91d0-413c-9b0c-3f7de0155d80",
   "metadata": {},
   "outputs": [
    {
     "data": {
      "text/plain": [
       "bool"
      ]
     },
     "execution_count": 16,
     "metadata": {},
     "output_type": "execute_result"
    }
   ],
   "source": [
    "type(boolean)"
   ]
  },
  {
   "cell_type": "code",
   "execution_count": null,
   "id": "9977aa7e-b968-4ba3-8300-31c7677c97fd",
   "metadata": {},
   "outputs": [],
   "source": []
  }
 ],
 "metadata": {
  "kernelspec": {
   "display_name": "Python 3 (ipykernel)",
   "language": "python",
   "name": "python3"
  },
  "language_info": {
   "codemirror_mode": {
    "name": "ipython",
    "version": 3
   },
   "file_extension": ".py",
   "mimetype": "text/x-python",
   "name": "python",
   "nbconvert_exporter": "python",
   "pygments_lexer": "ipython3",
   "version": "3.10.8"
  }
 },
 "nbformat": 4,
 "nbformat_minor": 5
}
